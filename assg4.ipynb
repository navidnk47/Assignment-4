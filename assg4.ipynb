{
 "cells": [
  {
   "cell_type": "code",
   "execution_count": null,
   "id": "226ba62f-3a7b-4404-9642-4729e83d3692",
   "metadata": {},
   "outputs": [],
   "source": [
    "#Q1.Create a Python program to sort the given list of tuples based on integer value using a lambda function.\n",
    "#[('Sachin Tendulkar',34357).('Ricky Ponting',27483),('Jack Kallis',25534),('Virat Kohli',24936)]"
   ]
  },
  {
   "cell_type": "code",
   "execution_count": 2,
   "id": "02bf7f2e-13fb-492f-ba48-11ff62e8ce33",
   "metadata": {},
   "outputs": [],
   "source": [
    "l=[('Sachin Tendulkar',34357),('Ricky Ponting',27483),('Jack Kallis',25534),('Virat Kohli',24936)]"
   ]
  },
  {
   "cell_type": "code",
   "execution_count": 3,
   "id": "204d0320-327a-42ff-952c-ecce01433012",
   "metadata": {},
   "outputs": [
    {
     "data": {
      "text/plain": [
       "[('Virat Kohli', 24936),\n",
       " ('Jack Kallis', 25534),\n",
       " ('Ricky Ponting', 27483),\n",
       " ('Sachin Tendulkar', 34357)]"
      ]
     },
     "execution_count": 3,
     "metadata": {},
     "output_type": "execute_result"
    }
   ],
   "source": [
    "#ans\n",
    "sorted(l, key= lambda x: x[1])"
   ]
  },
  {
   "cell_type": "code",
   "execution_count": 4,
   "id": "311c5227-f405-4063-9dbe-47cecbae71b2",
   "metadata": {},
   "outputs": [
    {
     "data": {
      "text/plain": [
       "[('Jack Kallis', 25534),\n",
       " ('Ricky Ponting', 27483),\n",
       " ('Sachin Tendulkar', 34357),\n",
       " ('Virat Kohli', 24936)]"
      ]
     },
     "execution_count": 4,
     "metadata": {},
     "output_type": "execute_result"
    }
   ],
   "source": [
    "sorted(l, key=lambda x:x[0])"
   ]
  },
  {
   "cell_type": "code",
   "execution_count": null,
   "id": "f751c923-7321-41b0-ab9a-c5db4384e879",
   "metadata": {},
   "outputs": [],
   "source": []
  },
  {
   "cell_type": "code",
   "execution_count": null,
   "id": "35fe845a-7da5-400e-9860-e6cc088bdd49",
   "metadata": {},
   "outputs": [],
   "source": [
    "Q2)Q2. Write a Python Program to find the squares of all the numbers in the given list of integers using\n",
    "lambda and map functions.\n",
    "[1, 2, 3, 4, 5, 6, 7, 8, 9, 10]"
   ]
  },
  {
   "cell_type": "code",
   "execution_count": 6,
   "id": "510556e7-78b4-498a-9b12-09b76decedae",
   "metadata": {},
   "outputs": [],
   "source": [
    "l=[1,2,3,4,5,6,7,8,9,10]"
   ]
  },
  {
   "cell_type": "code",
   "execution_count": 7,
   "id": "0940dd78-123d-449b-ae5f-052b452ed421",
   "metadata": {},
   "outputs": [],
   "source": [
    "def sq(x):\n",
    "    return x**2"
   ]
  },
  {
   "cell_type": "code",
   "execution_count": 8,
   "id": "bfb9533b-ddbf-4c4e-a2fc-0961b4f6d8ce",
   "metadata": {},
   "outputs": [
    {
     "data": {
      "text/plain": [
       "[1, 4, 9, 16, 25, 36, 49, 64, 81, 100]"
      ]
     },
     "execution_count": 8,
     "metadata": {},
     "output_type": "execute_result"
    }
   ],
   "source": [
    "list(map(sq,l))"
   ]
  },
  {
   "cell_type": "code",
   "execution_count": 11,
   "id": "25c87e54-e93d-4068-8def-2b9eac3579b8",
   "metadata": {},
   "outputs": [
    {
     "data": {
      "text/plain": [
       "[1, 4, 9, 16, 25, 36, 49, 64, 81, 100]"
      ]
     },
     "execution_count": 11,
     "metadata": {},
     "output_type": "execute_result"
    }
   ],
   "source": [
    "list(map(lambda x: x**2 ,l))"
   ]
  },
  {
   "cell_type": "code",
   "execution_count": null,
   "id": "40b1b31d-a7e2-4351-931e-1f32a5bd6050",
   "metadata": {},
   "outputs": [],
   "source": []
  },
  {
   "cell_type": "code",
   "execution_count": null,
   "id": "32eca884-e13e-499d-bc83-06993901d939",
   "metadata": {},
   "outputs": [],
   "source": [
    "Q3) Write a python program to convert the given list of integers into a tuple of strings. Use map and\n",
    "lambda functions\n",
    "Given String: [1, 2, 3, 4, 5, 6, 7, 8, 9, 10]\n",
    "Expected output: ('1', '2', '3', '4', '5', '6', '7', '8', '9', '10')"
   ]
  },
  {
   "cell_type": "code",
   "execution_count": 12,
   "id": "12e2abf0-4c4c-47f3-b5a9-a7d5ac388b9a",
   "metadata": {},
   "outputs": [],
   "source": [
    "s=[1,2,3,4,5,6,7,8,9,10]"
   ]
  },
  {
   "cell_type": "code",
   "execution_count": 13,
   "id": "2536bae2-4f0c-4b78-9a28-3319f5d6a7ee",
   "metadata": {},
   "outputs": [
    {
     "ename": "AttributeError",
     "evalue": "'int' object has no attribute 'upper'",
     "output_type": "error",
     "traceback": [
      "\u001b[0;31m---------------------------------------------------------------------------\u001b[0m",
      "\u001b[0;31mAttributeError\u001b[0m                            Traceback (most recent call last)",
      "Cell \u001b[0;32mIn[13], line 1\u001b[0m\n\u001b[0;32m----> 1\u001b[0m \u001b[38;5;28;43mlist\u001b[39;49m\u001b[43m(\u001b[49m\u001b[38;5;28;43mmap\u001b[39;49m\u001b[43m(\u001b[49m\u001b[38;5;28;43;01mlambda\u001b[39;49;00m\u001b[43m \u001b[49m\u001b[43ms\u001b[49m\u001b[43m:\u001b[49m\u001b[43m \u001b[49m\u001b[43ms\u001b[49m\u001b[38;5;241;43m.\u001b[39;49m\u001b[43mupper\u001b[49m\u001b[43m(\u001b[49m\u001b[43m)\u001b[49m\u001b[43m,\u001b[49m\u001b[43ms\u001b[49m\u001b[43m)\u001b[49m\u001b[43m)\u001b[49m\n",
      "Cell \u001b[0;32mIn[13], line 1\u001b[0m, in \u001b[0;36m<lambda>\u001b[0;34m(s)\u001b[0m\n\u001b[0;32m----> 1\u001b[0m \u001b[38;5;28mlist\u001b[39m(\u001b[38;5;28mmap\u001b[39m(\u001b[38;5;28;01mlambda\u001b[39;00m s: \u001b[43ms\u001b[49m\u001b[38;5;241;43m.\u001b[39;49m\u001b[43mupper\u001b[49m(),s))\n",
      "\u001b[0;31mAttributeError\u001b[0m: 'int' object has no attribute 'upper'"
     ]
    }
   ],
   "source": [
    "list(map(lambda s: s.upper(),s))"
   ]
  },
  {
   "cell_type": "code",
   "execution_count": null,
   "id": "f53a2289-f064-4f54-a1d3-d020f6549b6b",
   "metadata": {},
   "outputs": [],
   "source": [
    "s=[1,2,3,4,5,6,7,8,9,10]"
   ]
  },
  {
   "cell_type": "code",
   "execution_count": 19,
   "id": "d3de6f44-9ab5-4cb4-bed3-7d47327026ae",
   "metadata": {},
   "outputs": [
    {
     "data": {
      "text/plain": [
       "['1', '2', '3', '4', '5', '6', '7', '8', '9', '10']"
      ]
     },
     "execution_count": 19,
     "metadata": {},
     "output_type": "execute_result"
    }
   ],
   "source": [
    "list(map(lambda s:str(s),s))"
   ]
  },
  {
   "cell_type": "code",
   "execution_count": null,
   "id": "81baccd3-bd55-4851-b706-e7cf81ac99dc",
   "metadata": {},
   "outputs": [],
   "source": []
  },
  {
   "cell_type": "code",
   "execution_count": null,
   "id": "390ccb8e-421d-4992-bd6c-d2379b1c6f53",
   "metadata": {},
   "outputs": [],
   "source": [
    "Q4) Write a python program using reduce function to compute the product of a list containing numbers\n",
    "from 1 to 25."
   ]
  },
  {
   "cell_type": "code",
   "execution_count": 7,
   "id": "2c00569c-86f8-4a4c-8ec3-3b8bc4b17935",
   "metadata": {},
   "outputs": [],
   "source": [
    "l=list(range(1,26))\n",
    "from functools import reduce"
   ]
  },
  {
   "cell_type": "code",
   "execution_count": 6,
   "id": "03b6484f-f81a-49b6-a49e-3daf544149fd",
   "metadata": {},
   "outputs": [
    {
     "data": {
      "text/plain": [
       "15511210043330985984000000"
      ]
     },
     "execution_count": 6,
     "metadata": {},
     "output_type": "execute_result"
    }
   ],
   "source": [
    "reduce(lambda x,y:x*y,l)"
   ]
  },
  {
   "cell_type": "code",
   "execution_count": null,
   "id": "e9144b8b-6572-4ea4-8fe4-62a6dc749082",
   "metadata": {},
   "outputs": [],
   "source": []
  },
  {
   "cell_type": "code",
   "execution_count": null,
   "id": "1f4cb9a2-f009-447a-9bbe-5ece5ab34e00",
   "metadata": {},
   "outputs": [],
   "source": [
    "Q5)Q5. Write a python program to filter the numbers in a given list that are divisible by 2 and 3 using the\n",
    "filter function."
   ]
  },
  {
   "cell_type": "code",
   "execution_count": 9,
   "id": "ba9bc98e-7377-44d1-ba21-a85de74f0deb",
   "metadata": {},
   "outputs": [],
   "source": [
    "l1=[2,3,6,9,27,60,90,120,55,46]"
   ]
  },
  {
   "cell_type": "code",
   "execution_count": 10,
   "id": "a688a3c5-5861-40c3-9538-ac3a8cddd1a6",
   "metadata": {},
   "outputs": [
    {
     "data": {
      "text/plain": [
       "[2, 6, 60, 90, 120, 46]"
      ]
     },
     "execution_count": 10,
     "metadata": {},
     "output_type": "execute_result"
    }
   ],
   "source": [
    "list(filter(lambda x : x%2==0,l1))"
   ]
  },
  {
   "cell_type": "code",
   "execution_count": 12,
   "id": "8f39584b-118f-484f-b0fd-0aa538ce520b",
   "metadata": {},
   "outputs": [
    {
     "data": {
      "text/plain": [
       "[3, 6, 9, 27, 60, 90, 120]"
      ]
     },
     "execution_count": 12,
     "metadata": {},
     "output_type": "execute_result"
    }
   ],
   "source": [
    "list(filter(lambda x : x%3==0,l1))"
   ]
  },
  {
   "cell_type": "code",
   "execution_count": null,
   "id": "bdb1a403-13d0-4466-b328-80e93eef3aa3",
   "metadata": {},
   "outputs": [],
   "source": []
  },
  {
   "cell_type": "code",
   "execution_count": null,
   "id": "ab0f6e7f-bf60-4bfe-ae65-b22f56443948",
   "metadata": {},
   "outputs": [],
   "source": [
    "Q6)Write a python program to find palindromes in the given list of strings using lambda and filter\n",
    "function.\n",
    "['python', 'php', 'aba', 'radar', 'level']"
   ]
  },
  {
   "cell_type": "code",
   "execution_count": 13,
   "id": "05c1a547-c70d-44cd-83d3-c0452e8989c6",
   "metadata": {},
   "outputs": [],
   "source": [
    "s=['python', 'php', 'aba', 'radar', 'level']"
   ]
  },
  {
   "cell_type": "code",
   "execution_count": 14,
   "id": "c50a9471-5f9d-4e60-a2f2-2613cac098f3",
   "metadata": {},
   "outputs": [
    {
     "data": {
      "text/plain": [
       "['python', 'php', 'aba', 'radar', 'level']"
      ]
     },
     "execution_count": 14,
     "metadata": {},
     "output_type": "execute_result"
    }
   ],
   "source": [
    "s"
   ]
  },
  {
   "cell_type": "code",
   "execution_count": 15,
   "id": "5f8e3d16-d49b-4d63-9460-174726efb2bd",
   "metadata": {},
   "outputs": [
    {
     "data": {
      "text/plain": [
       "['python', 'php', 'aba', 'radar', 'level']"
      ]
     },
     "execution_count": 15,
     "metadata": {},
     "output_type": "execute_result"
    }
   ],
   "source": [
    "list(filter(lambda x:x[::-1],s))"
   ]
  },
  {
   "cell_type": "code",
   "execution_count": 17,
   "id": "482428a0-0ff3-4344-9601-52fc942b6cc4",
   "metadata": {},
   "outputs": [
    {
     "ename": "SyntaxError",
     "evalue": "invalid syntax (3560903924.py, line 1)",
     "output_type": "error",
     "traceback": [
      "\u001b[0;36m  Cell \u001b[0;32mIn[17], line 1\u001b[0;36m\u001b[0m\n\u001b[0;31m    list(filter(lambda x:x[::-1],==x,s))\u001b[0m\n\u001b[0m                                 ^\u001b[0m\n\u001b[0;31mSyntaxError\u001b[0m\u001b[0;31m:\u001b[0m invalid syntax\n"
     ]
    }
   ],
   "source": [
    "list(filter(lambda x:x[::-1],==x,s))"
   ]
  }
 ],
 "metadata": {
  "kernelspec": {
   "display_name": "Python 3 (ipykernel)",
   "language": "python",
   "name": "python3"
  },
  "language_info": {
   "codemirror_mode": {
    "name": "ipython",
    "version": 3
   },
   "file_extension": ".py",
   "mimetype": "text/x-python",
   "name": "python",
   "nbconvert_exporter": "python",
   "pygments_lexer": "ipython3",
   "version": "3.10.8"
  }
 },
 "nbformat": 4,
 "nbformat_minor": 5
}
